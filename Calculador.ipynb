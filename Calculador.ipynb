{
 "cells": [
  {
   "cell_type": "markdown",
   "id": "054f447f-e910-46c8-bd8f-9e5af1605d02",
   "metadata": {},
   "source": [
    "# Calculador de Sazonalidade Mensal da Receita Prevista\n",
    "\n",
    "Este Jupyter Notebook calcula a sazonalidade mensal de determinada receita de acordo com as arrecadações mensais em anos anteriores.\n",
    "\n",
    "## Procedimentos de cálculo\n",
    "\n",
    "Data uma determinada receita, determinado valor anual previsto e determinado intervalo de anos anteriores:\n",
    "\n",
    "1. Para cada ano anterior, identifica o valor mensal arrecadado e o total arrecadado no ano;\n",
    "2. Para cada ano anterior, calcula o peso percentual da arrecadação mensal em relação ao total arrecadado;\n",
    "3. Para cada mês, apura a média do peso percentual arrecadado;\n",
    "4. Para cada mês, podera os pesos mensais de forma que a soma de pesos mensais seja igual a 100%;\n",
    "5. Tendo por base o valor anual previsto, para cada mês aplica o percentual médio ponderado a fim de obter a previsão mensal da receita.\n",
    "\n",
    "## Especificidades do cálculo\n",
    "\n",
    "### Garantia de que a soma dos meses seja igual à receita total\n",
    "\n",
    "Para evitar que a soma dos valores mensais seja diferente do valor total em virtude de arredondamento, tanto os percentuais quanto so valores finais relativos ao mês de dezembro é dado subtraindo-se a soma de janeiro a novembro do total.\n",
    "\n",
    "### Arredondamento dos valores mensais previstos\n",
    "\n",
    "Foi adotado um coeficiente de arredondamento para ser usado nos valores previstos para janeiro a novembro, sendo a diferença acumulada para o mês de dezembro.\n",
    "\n",
    "## Origem dos dados\n",
    "\n",
    "Os dados utilizados são os do arquivo RECEITA.TXT gerado para o SIAPC/PAD do TCE/RS convertidos pelo [pad_converter](https://github.com/iddrs/pad-converterhttps://github.com/iddrs/pad-converter)."
   ]
  },
  {
   "cell_type": "code",
   "execution_count": 44,
   "id": "5b8a0b6a-536a-40ee-a8c6-20477472c310",
   "metadata": {},
   "outputs": [],
   "source": [
    "# Configurando o ambiente\n",
    "\n",
    "import pandas as pd\n",
    "from os import path\n",
    "\n",
    "'''\n",
    "Diretório base para os dados.\n",
    "\n",
    "Dentro desse diretório deve haver um subdiretório para cada ano especificado em ```anos_anteriores``` (definida no bloco seguinte)\n",
    "\n",
    "Dentro de cada subdiretório é necessário constar um arquivo *RECEITA.CSV*.\n",
    "'''\n",
    "dir_base_dados = r'./dados'\n"
   ]
  },
  {
   "cell_type": "code",
   "execution_count": 2,
   "id": "2ea5c317-1338-4843-9c44-87c402a0a894",
   "metadata": {},
   "outputs": [],
   "source": [
    "# Configuração de/para dos códigos da receita\n",
    "\n",
    "'''\n",
    "Graças às mudanças mais frequentes do que gostaríamos na codificação da receita (obrigado STN, obrigado TCE/RS), é necessário fazer um de/para nos códigos das receitas.\n",
    "\n",
    "A estrutura do de/para é a seguinte:\n",
    "\n",
    "- Dicionário onde chave = identificador da receita e valor = lista\n",
    "    - Lista\n",
    "        - String com um identificador (nome) da receita\n",
    "        - Dicionário onde chave = ano e valor = código da receita naquele ano\n",
    "'''\n",
    "\n",
    "de_para = {\n",
    "    'iptu_principal': ['IMPOSTO SOBRE A PROPRIEDADE PREDIAL E TERRITORIAL URBANA - PRINCIPAL',\n",
    "    {\n",
    "        2019: '4.1.1.1.8.01.1.1.00.00.00.00.000',\n",
    "        2020: '4.1.1.1.8.01.1.1.00.00.00.00.000',\n",
    "        2021: '4.1.1.1.8.01.1.1.00.00.00.00.000'\n",
    "    }],\n",
    "}"
   ]
  },
  {
   "cell_type": "code",
   "execution_count": 40,
   "id": "45820d01-ea81-41b3-b4a4-6e7b868e89e5",
   "metadata": {},
   "outputs": [],
   "source": [
    "# Configurando as bases do cálculo\n",
    "\n",
    "'''\n",
    "Lista dos anos que serão considerados para o cálculo dos percentuais.\n",
    "\n",
    "Obviamente que presia ser um intervalo constante de anos. Então, nada de ficar \"pulando\" anos por aí.\n",
    "\n",
    "Além disso, para cada ano é necessário existir um diretório dentro de *dados* e dentro deles, um arquivo *RECEITA.CSV*\n",
    "'''\n",
    "anos_anteriores = (2019, 2020, 2021)\n",
    "\n",
    "'''\n",
    "O valor de ```ndigits``` da [função built-in](https://docs.python.org/3/library/functions.html#round) do Python ```round()```.\n",
    "'''\n",
    "coeficiente_arredondamento = -3"
   ]
  },
  {
   "cell_type": "code",
   "execution_count": 4,
   "id": "fb07dab1-cc2c-4f6c-8fe1-ccb44d61fddf",
   "metadata": {},
   "outputs": [],
   "source": [
    "# Configurando o cálculo\n",
    "\n",
    "# A chave da receita alvo usado em ```de_para```\n",
    "receita_alvo = 'iptu_principal'\n",
    "\n",
    "# Valor previsto para a receita alvo. É o valor que queremos dividir de acordo com a sazonalidade mensal\n",
    "valor_receita_alvo = 596_000.00"
   ]
  },
  {
   "cell_type": "code",
   "execution_count": 10,
   "id": "080e4fb0-4649-4be3-9ac3-5834bec911ff",
   "metadata": {},
   "outputs": [
    {
     "name": "stdout",
     "output_type": "stream",
     "text": [
      "Carregando dados de 2019 a partir de ./dados\\2019\\RECEITA.csv...\n",
      "Carregando dados de 2020 a partir de ./dados\\2020\\RECEITA.csv...\n",
      "Carregando dados de 2021 a partir de ./dados\\2021\\RECEITA.csv...\n"
     ]
    }
   ],
   "source": [
    "# Executando o cálculo\n",
    "# Não mude nada a partir daqui, exceto se souber o que estás fazendo\n",
    "\n",
    "# Carrega os dados de receita\n",
    "\n",
    "# Lista com as colunas a retornar no dataframe\n",
    "colunas_nomes = [\n",
    "    'codigo_receita',\n",
    "    'receita_realizada_jan',\n",
    "    'receita_realizada_fev',\n",
    "    'receita_realizada_mar',\n",
    "    'receita_realizada_abr',\n",
    "    'receita_realizada_mai',\n",
    "    'receita_realizada_jun',\n",
    "    'receita_realizada_jul',\n",
    "    'receita_realizada_ago',\n",
    "    'receita_realizada_set',\n",
    "    'receita_realizada_out',\n",
    "    'receita_realizada_nov',\n",
    "    'receita_realizada_dez'\n",
    "]\n",
    "\n",
    "# Armazena os dataframes com os dados das receitas\n",
    "dados_receita = {}\n",
    "for ano in anos_anteriores:\n",
    "    f = path.join(dir_base_dados, str(ano), 'RECEITA.csv')\n",
    "    print(f'Carregando dados de {ano} a partir de {f}...')\n",
    "    df = pd.read_csv(f, sep=';', usecols=colunas_nomes, thousands='.', decimal=',')\n",
    "    dados_receita[ano] = df"
   ]
  },
  {
   "cell_type": "code",
   "execution_count": 11,
   "id": "925b8685-f8d1-4d5f-9deb-dbf1aea6d37b",
   "metadata": {},
   "outputs": [
    {
     "name": "stdout",
     "output_type": "stream",
     "text": [
      "['IMPOSTO SOBRE A PROPRIEDADE PREDIAL E TERRITORIAL URBANA - PRINCIPAL', {2019: '4.1.1.1.8.01.1.1.00.00.00.00.000', 2020: '4.1.1.1.8.01.1.1.00.00.00.00.000', 2021: '4.1.1.1.8.01.1.1.00.00.00.00.000'}]\n"
     ]
    }
   ],
   "source": [
    "# Pega a especificação da receita alvo\n",
    "especificacao_receita_alvo = de_para[receita_alvo]\n",
    "print(especificacao_receita_alvo)"
   ]
  },
  {
   "cell_type": "code",
   "execution_count": 17,
   "id": "d0600301-a482-4ae7-9906-e8f19919d2eb",
   "metadata": {},
   "outputs": [],
   "source": [
    "# Busca os valores arrecadados para cada ano\n",
    "\n",
    "# Armazena a arrecadação mensal e total da receita alvo\n",
    "arrecadacao = {}\n",
    "for ano in anos_anteriores:\n",
    "    codigo_receita = especificacao_receita_alvo[1][ano]\n",
    "    df = dados_receita[ano]\n",
    "    filtro = df[df['codigo_receita'] == codigo_receita].copy()\n",
    "    filtro['total'] = filtro['receita_realizada_jan'] + filtro['receita_realizada_fev'] + filtro['receita_realizada_mar'] + filtro['receita_realizada_abr'] + filtro['receita_realizada_mai'] + filtro['receita_realizada_jun'] + filtro['receita_realizada_jul'] + filtro['receita_realizada_ago'] + filtro['receita_realizada_set'] + filtro['receita_realizada_out'] + filtro['receita_realizada_nov'] + filtro['receita_realizada_dez']\n",
    "    arrecadacao[ano] = filtro"
   ]
  },
  {
   "cell_type": "code",
   "execution_count": 39,
   "id": "045996d3-1414-48f5-97b7-ea27fabb54a8",
   "metadata": {},
   "outputs": [],
   "source": [
    "# Calcula o percentual mensal de cada ano\n",
    "\n",
    "# Nomes das colunas mensais\n",
    "meses = colunas_nomes[1:].copy()\n",
    "\n",
    "# Armazena os percentuais mensais de cada ano\n",
    "percentuais = {}\n",
    "for ano in anos_anteriores:\n",
    "    percentuais[ano] = {}\n",
    "    arrecadado = arrecadacao[ano]\n",
    "    total = float(arrecadado['total'])\n",
    "    acumulado = 0.0\n",
    "    for mes in meses:\n",
    "        percentuais[ano][mes] = {}\n",
    "        if mes == 'receita_realizada_dez':\n",
    "            percentuais[ano][mes] = total - acumulado\n",
    "        else:\n",
    "            percentuais[ano][mes] = float(arrecadado[mes]) / total\n",
    "            acumulado += arrecadado[mes]\n",
    "            \n",
    "# Calcula a média mensal\n",
    "percentuais_medios = {}\n",
    "perc_total = 0.0\n",
    "for mes in meses:\n",
    "    perc_acum = 0.0\n",
    "    for ano in anos_anteriores:\n",
    "        perc_acum += float(percentuais[ano][mes])\n",
    "    percentuais_medios[mes] = perc_acum / len(anos_anteriores)\n",
    "perc_total += percentuais_medios[mes]\n",
    "\n",
    "# Pondera os percentuais para que a sua soma corresponda a 100%\n",
    "\n",
    "perc_acum = 0.00\n",
    "for mes in meses:\n",
    "    perc = percentuais_medios[mes]\n",
    "    if mes == 'receita_realizada_dez':\n",
    "        percentuais_medios[mes] = perc_total - perc_acum\n",
    "    else:\n",
    "        percentuais_medios[mes] = perc * 100 / perc_total\n",
    "        perc_acum += percentuais_medios[mes]\n",
    "perc_total = 1\n"
   ]
  },
  {
   "cell_type": "code",
   "execution_count": 41,
   "id": "7205d223-7d72-4123-9e6f-a08dc920ff46",
   "metadata": {},
   "outputs": [],
   "source": [
    "# Calcula os valores mensais da receita alvo\n",
    "\n",
    "receita_acum = 0.0\n",
    "receita_alvo_sazonalizada = {}\n",
    "for mes in meses:\n",
    "    perc = percentuais_medios[mes]\n",
    "    if mes == 'receita_realizada_dez':\n",
    "        receita_alvo_sazonalizada[mes] = valor_receita_alvo - receita_acum\n",
    "        receita_acum += receita_alvo_sazonalizada[mes]\n",
    "    else:\n",
    "        receita_alvo_sazonalizada[mes] = round(valor_receita_alvo * perc, coeficiente_arredondamento)\n",
    "        receita_acum += receita_alvo_sazonalizada[mes]"
   ]
  },
  {
   "cell_type": "code",
   "execution_count": 48,
   "id": "0f907936-d769-434c-a935-661581fd7499",
   "metadata": {},
   "outputs": [
    {
     "name": "stdout",
     "output_type": "stream",
     "text": [
      "Janeiro:\t0.00\n",
      "Fevereiro:\t0.00\n",
      "Março:\t\t0.00\n",
      "Abril:\t\t1,000.00\n",
      "Maio:\t\t1,000.00\n",
      "Junho:\t\t3,000.00\n",
      "Julho:\t\t0.00\n",
      "Agosto:\t\t0.00\n",
      "Setembro:\t0.00\n",
      "Outubro:\t0.00\n",
      "Novembro:\t0.00\n",
      "Dezembro:\t591,000.00\n",
      "Total:\t5,000.00\n"
     ]
    }
   ],
   "source": [
    "# Mostra/salva o resultado\n",
    "\n",
    "print(f'Janeiro:\\t{receita_alvo_sazonalizada[\"receita_realizada_jan\"]:,.2f}')\n",
    "print(f'Fevereiro:\\t{receita_alvo_sazonalizada[\"receita_realizada_fev\"]:,.2f}')\n",
    "print(f'Março:\\t\\t{receita_alvo_sazonalizada[\"receita_realizada_mar\"]:,.2f}')\n",
    "print(f'Abril:\\t\\t{receita_alvo_sazonalizada[\"receita_realizada_abr\"]:,.2f}')\n",
    "print(f'Maio:\\t\\t{receita_alvo_sazonalizada[\"receita_realizada_mai\"]:,.2f}')\n",
    "print(f'Junho:\\t\\t{receita_alvo_sazonalizada[\"receita_realizada_jun\"]:,.2f}')\n",
    "print(f'Julho:\\t\\t{receita_alvo_sazonalizada[\"receita_realizada_jul\"]:,.2f}')\n",
    "print(f'Agosto:\\t\\t{receita_alvo_sazonalizada[\"receita_realizada_ago\"]:,.2f}')\n",
    "print(f'Setembro:\\t{receita_alvo_sazonalizada[\"receita_realizada_set\"]:,.2f}')\n",
    "print(f'Outubro:\\t{receita_alvo_sazonalizada[\"receita_realizada_out\"]:,.2f}')\n",
    "print(f'Novembro:\\t{receita_alvo_sazonalizada[\"receita_realizada_nov\"]:,.2f}')\n",
    "print(f'Dezembro:\\t{receita_alvo_sazonalizada[\"receita_realizada_dez\"]:,.2f}')\n",
    "print(f'Total:\\t{receita_acum:,.2f}')"
   ]
  }
 ],
 "metadata": {
  "kernelspec": {
   "display_name": "Python 3 (ipykernel)",
   "language": "python",
   "name": "python3"
  },
  "language_info": {
   "codemirror_mode": {
    "name": "ipython",
    "version": 3
   },
   "file_extension": ".py",
   "mimetype": "text/x-python",
   "name": "python",
   "nbconvert_exporter": "python",
   "pygments_lexer": "ipython3",
   "version": "3.10.5"
  },
  "toc-autonumbering": true
 },
 "nbformat": 4,
 "nbformat_minor": 5
}
